{
 "cells": [
  {
   "cell_type": "code",
   "execution_count": 47,
   "id": "46c3acdd",
   "metadata": {},
   "outputs": [],
   "source": [
    "import csv \n",
    "import operator\n",
    "import copy \n",
    "from token import EQUAL\n",
    "from builtins import sorted"
   ]
  },
  {
   "cell_type": "code",
   "execution_count": 48,
   "id": "158f52c6",
   "metadata": {},
   "outputs": [],
   "source": [
    "#open csv file \n",
    "reader = csv.reader(open(\"./Downloads/Largest_Cities_CSV.CSV\"), delimiter = \",\")"
   ]
  },
  {
   "cell_type": "code",
   "execution_count": 49,
   "id": "3aa5bcc6",
   "metadata": {},
   "outputs": [],
   "source": [
    "#initialize the variables\n",
    "u= \"State - Place\"\n",
    "x= \"Year\"\n",
    "y= \"Population\"\n",
    "z = \"Vedavyas - Rank\"\n",
    "rows_so_far = 0\n",
    "c = 0"
   ]
  },
  {
   "cell_type": "code",
   "execution_count": 50,
   "id": "2db0409f",
   "metadata": {},
   "outputs": [],
   "source": [
    "#intializing the 2 domentional list \n",
    "pool = []\n",
    "pool.append([])"
   ]
  },
  {
   "cell_type": "code",
   "execution_count": 51,
   "id": "4f2281c1",
   "metadata": {},
   "outputs": [],
   "source": [
    "#loop through the csv \n",
    "for row in reader: \n",
    "    if rows_so_far ==0:\n",
    "        rows_so_far +=1\n",
    "        header = row\n",
    "        \n",
    "#populate header\n",
    "#header for the csv file \n",
    "#State - City, Year \n",
    "        for j in range(0,4):\n",
    "            if j ==0:\n",
    "                pool.append([])\n",
    "                pool[0].append(u)\n",
    "            if j ==1:\n",
    "                pool[0].append(x)\n",
    "            if j==2:\n",
    "                pool[0].append(y)\n",
    "            if j ==3:\n",
    "                pool[0].append(z)\n",
    "    else:\n",
    "#populate items\n",
    "#append the population a city for each year \n",
    "        for i in range(len(row)-2):\n",
    "            a=len(pool)\n",
    "            if not row==[]:\n",
    "                    if i==0 or i>=1:\n",
    "                        item = copy.deepcopy(row)\n",
    "                        r=copy.deepcopy(row)\n",
    "                        \n",
    "#populate the values for a column\n",
    "                        for j in range(0,4):\n",
    "                            if item[i+2] != \"\":\n",
    "                                if j==0:\n",
    "#Concatenate the state and city value\n",
    "                                    r[0]=item[j+i]+' - '+item[j]\n",
    "                                    pool.append([])\n",
    "                                    pool[a-1].append(r[0])\n",
    "#populate year value \n",
    "                                if j==1:\n",
    "                                    pool[a-1].append(int(header[i+2]))\n",
    "#populate population value\n",
    "#in case population is nil, donot append the record\n",
    "                                if j ==2 :\n",
    "                                    if item[i+2]==\"\":\n",
    "                                        pool[a-1].append(int(0))\n",
    "                                    else:\n",
    "                                        pool[a-1].append(int(item[i+2]))\n",
    "#Initialise the rank to zero \n",
    "                                if j==3:\n",
    "                                    pool[a-1].append(int(0))\n",
    "    rows_so_far +=1"
   ]
  },
  {
   "cell_type": "code",
   "execution_count": 52,
   "id": "a10bf98b",
   "metadata": {},
   "outputs": [],
   "source": [
    "#check the length of the list \n",
    "a = len(pool)"
   ]
  },
  {
   "cell_type": "code",
   "execution_count": 53,
   "id": "a8626c35",
   "metadata": {},
   "outputs": [],
   "source": [
    "list = pool[1:a-1]"
   ]
  },
  {
   "cell_type": "code",
   "execution_count": 54,
   "id": "07eb0e4f",
   "metadata": {},
   "outputs": [],
   "source": [
    "#populate the list with all values except header as \n",
    "#sort the list by year & Population \n",
    "list.sort(key =lambda b: (b[1],b[2]), reverse = True)"
   ]
  },
  {
   "cell_type": "code",
   "execution_count": 55,
   "id": "dced96c2",
   "metadata": {},
   "outputs": [],
   "source": [
    "#add the header to the list \n",
    "list1=[]\n",
    "list1.append([])\n",
    "list1[0]=pool[0]\n",
    "list1[1:a-1] = list[0:a-2]"
   ]
  },
  {
   "cell_type": "code",
   "execution_count": 56,
   "id": "7a35a89a",
   "metadata": {},
   "outputs": [],
   "source": [
    "#Convert the list into CSV file \n",
    "mycsv = csv.writer(open(r'C:\\Users\\vedav\\Downloads\\vedavyas1.csv','w',newline= ''))\n",
    "for row in list1:\n",
    "#fetching the row index \n",
    "#no calculations done at header level\n",
    "    e= list1.index(row)\n",
    "#Compare the year value of the current record with the year value if the previous record \n",
    "#if same calculate the rank, if different assign the rank as one \n",
    "    if row[1] != c and e != 0:\n",
    "        v=1\n",
    "        c=row[1]\n",
    "        row[3] = v\n",
    "    else:\n",
    "        if row[1]==c and e!=0:\n",
    "            v+=1 \n",
    "            row[3]=v\n",
    "#write row to csv \n",
    "    mycsv.writerow(row)"
   ]
  },
  {
   "cell_type": "code",
   "execution_count": null,
   "id": "cc1d9ccd",
   "metadata": {},
   "outputs": [],
   "source": []
  }
 ],
 "metadata": {
  "kernelspec": {
   "display_name": "Python 3 (ipykernel)",
   "language": "python",
   "name": "python3"
  },
  "language_info": {
   "codemirror_mode": {
    "name": "ipython",
    "version": 3
   },
   "file_extension": ".py",
   "mimetype": "text/x-python",
   "name": "python",
   "nbconvert_exporter": "python",
   "pygments_lexer": "ipython3",
   "version": "3.9.12"
  }
 },
 "nbformat": 4,
 "nbformat_minor": 5
}
