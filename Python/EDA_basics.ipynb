{
 "cells": [
  {
   "cell_type": "markdown",
   "id": "16c3b981",
   "metadata": {},
   "source": [
    "# Importing Requirements"
   ]
  },
  {
   "cell_type": "code",
   "execution_count": 26,
   "id": "666e1466",
   "metadata": {},
   "outputs": [
    {
     "data": {
      "text/html": [
       "<style>.container {width:100% !important;}"
      ],
      "text/plain": [
       "<IPython.core.display.HTML object>"
      ]
     },
     "metadata": {},
     "output_type": "display_data"
    }
   ],
   "source": [
    "from IPython.display import display, HTML\n",
    "display(HTML(\"<style>.container {width:100% !important;}\"))"
   ]
  },
  {
   "cell_type": "code",
   "execution_count": 30,
   "id": "c34c8319",
   "metadata": {},
   "outputs": [],
   "source": [
    "import pandas as pd\n",
    "import numpy as np\n",
    "import matplotlib.pyplot as plt\n",
    "import seaborn as sns\n",
    "import os\n",
    "%matplotlib inline"
   ]
  },
  {
   "cell_type": "code",
   "execution_count": 111,
   "id": "1e0a8216",
   "metadata": {},
   "outputs": [],
   "source": [
    "path = \"C:/Users/vedav/Documents/pet_projects/\"\n",
    "data_dir = os.path.join(path, 'Crowd Sourced Grocery Prices V2.xlsx')\n",
    "data_output = os.path.join(path,'Crowd Sourced Grocery Prices.xlsx')"
   ]
  },
  {
   "cell_type": "code",
   "execution_count": 60,
   "id": "2d6a77c6",
   "metadata": {},
   "outputs": [
    {
     "data": {
      "text/plain": [
       "['Observations', 'Products']"
      ]
     },
     "execution_count": 60,
     "metadata": {},
     "output_type": "execute_result"
    }
   ],
   "source": [
    "df = pd.ExcelFile(data_dir)\n",
    "df.sheet_names"
   ]
  },
  {
   "cell_type": "code",
   "execution_count": 78,
   "id": "88380bce",
   "metadata": {},
   "outputs": [],
   "source": [
    "df_observation = pd.read_excel(data_dir,sheet_name= 'Observations', date_parser = True)"
   ]
  },
  {
   "cell_type": "code",
   "execution_count": 79,
   "id": "4ad5f5e4",
   "metadata": {},
   "outputs": [
    {
     "data": {
      "text/html": [
       "<div>\n",
       "<style scoped>\n",
       "    .dataframe tbody tr th:only-of-type {\n",
       "        vertical-align: middle;\n",
       "    }\n",
       "\n",
       "    .dataframe tbody tr th {\n",
       "        vertical-align: top;\n",
       "    }\n",
       "\n",
       "    .dataframe thead th {\n",
       "        text-align: right;\n",
       "    }\n",
       "</style>\n",
       "<table border=\"1\" class=\"dataframe\">\n",
       "  <thead>\n",
       "    <tr style=\"text-align: right;\">\n",
       "      <th></th>\n",
       "      <th>Country</th>\n",
       "      <th>City</th>\n",
       "      <th>Obs Date</th>\n",
       "      <th>Product Code</th>\n",
       "      <th>Quantity</th>\n",
       "      <th>Price</th>\n",
       "    </tr>\n",
       "  </thead>\n",
       "  <tbody>\n",
       "    <tr>\n",
       "      <th>0</th>\n",
       "      <td>Kenya</td>\n",
       "      <td>Eldoret</td>\n",
       "      <td>2009-01-01 00:00:00</td>\n",
       "      <td>52.0</td>\n",
       "      <td>1 kg</td>\n",
       "      <td>11.92</td>\n",
       "    </tr>\n",
       "    <tr>\n",
       "      <th>1</th>\n",
       "      <td>Pakistan</td>\n",
       "      <td>Attock</td>\n",
       "      <td>2009-01-01 00:00:00</td>\n",
       "      <td>44.0</td>\n",
       "      <td>1 kg</td>\n",
       "      <td>9.36</td>\n",
       "    </tr>\n",
       "    <tr>\n",
       "      <th>2</th>\n",
       "      <td>India</td>\n",
       "      <td>Nashik</td>\n",
       "      <td>2009-01-01 00:00:00</td>\n",
       "      <td>47.0</td>\n",
       "      <td>1 kg</td>\n",
       "      <td>6.47</td>\n",
       "    </tr>\n",
       "    <tr>\n",
       "      <th>3</th>\n",
       "      <td>Kenya</td>\n",
       "      <td>Eldoret</td>\n",
       "      <td>2009-01-01 00:00:00</td>\n",
       "      <td>52.0</td>\n",
       "      <td>1 kg</td>\n",
       "      <td>5.91</td>\n",
       "    </tr>\n",
       "    <tr>\n",
       "      <th>4</th>\n",
       "      <td>India</td>\n",
       "      <td>Nashik</td>\n",
       "      <td>2009-01-01 00:00:00</td>\n",
       "      <td>62.0</td>\n",
       "      <td>100 g</td>\n",
       "      <td>1.80</td>\n",
       "    </tr>\n",
       "  </tbody>\n",
       "</table>\n",
       "</div>"
      ],
      "text/plain": [
       "    Country     City             Obs Date  Product Code Quantity  Price\n",
       "0     Kenya  Eldoret  2009-01-01 00:00:00          52.0     1 kg  11.92\n",
       "1  Pakistan   Attock  2009-01-01 00:00:00          44.0     1 kg   9.36\n",
       "2     India   Nashik  2009-01-01 00:00:00          47.0     1 kg   6.47\n",
       "3     Kenya  Eldoret  2009-01-01 00:00:00          52.0     1 kg   5.91\n",
       "4     India   Nashik  2009-01-01 00:00:00          62.0    100 g   1.80"
      ]
     },
     "execution_count": 79,
     "metadata": {},
     "output_type": "execute_result"
    }
   ],
   "source": [
    "df_observation.head()"
   ]
  },
  {
   "cell_type": "code",
   "execution_count": 80,
   "id": "bbf95c7e",
   "metadata": {},
   "outputs": [],
   "source": [
    "df_products = pd.read_excel(data_dir,sheet_name= 'Products', date_parser = True)"
   ]
  },
  {
   "cell_type": "code",
   "execution_count": 81,
   "id": "a77e8417",
   "metadata": {},
   "outputs": [
    {
     "data": {
      "text/html": [
       "<div>\n",
       "<style scoped>\n",
       "    .dataframe tbody tr th:only-of-type {\n",
       "        vertical-align: middle;\n",
       "    }\n",
       "\n",
       "    .dataframe tbody tr th {\n",
       "        vertical-align: top;\n",
       "    }\n",
       "\n",
       "    .dataframe thead th {\n",
       "        text-align: right;\n",
       "    }\n",
       "</style>\n",
       "<table border=\"1\" class=\"dataframe\">\n",
       "  <thead>\n",
       "    <tr style=\"text-align: right;\">\n",
       "      <th></th>\n",
       "      <th>Product Code</th>\n",
       "      <th>Product Name</th>\n",
       "    </tr>\n",
       "  </thead>\n",
       "  <tbody>\n",
       "    <tr>\n",
       "      <th>0</th>\n",
       "      <td>11</td>\n",
       "      <td>Rice, long grain</td>\n",
       "    </tr>\n",
       "    <tr>\n",
       "      <th>1</th>\n",
       "      <td>12</td>\n",
       "      <td>Rice, white</td>\n",
       "    </tr>\n",
       "    <tr>\n",
       "      <th>2</th>\n",
       "      <td>13</td>\n",
       "      <td>Cornflakes, Kellogg's</td>\n",
       "    </tr>\n",
       "    <tr>\n",
       "      <th>3</th>\n",
       "      <td>14</td>\n",
       "      <td>Flour, wheat</td>\n",
       "    </tr>\n",
       "    <tr>\n",
       "      <th>4</th>\n",
       "      <td>15</td>\n",
       "      <td>Flour, maize</td>\n",
       "    </tr>\n",
       "  </tbody>\n",
       "</table>\n",
       "</div>"
      ],
      "text/plain": [
       "   Product Code           Product Name\n",
       "0            11       Rice, long grain\n",
       "1            12            Rice, white\n",
       "2            13  Cornflakes, Kellogg's\n",
       "3            14           Flour, wheat\n",
       "4            15           Flour, maize"
      ]
     },
     "execution_count": 81,
     "metadata": {},
     "output_type": "execute_result"
    }
   ],
   "source": [
    "df_products.head()"
   ]
  },
  {
   "cell_type": "code",
   "execution_count": 82,
   "id": "3dcf0f47",
   "metadata": {},
   "outputs": [
    {
     "name": "stdout",
     "output_type": "stream",
     "text": [
      "<class 'pandas.core.frame.DataFrame'>\n",
      "RangeIndex: 961797 entries, 0 to 961796\n",
      "Data columns (total 6 columns):\n",
      " #   Column        Non-Null Count   Dtype  \n",
      "---  ------        --------------   -----  \n",
      " 0   Country       961732 non-null  object \n",
      " 1   City          961732 non-null  object \n",
      " 2   Obs Date      961732 non-null  object \n",
      " 3   Product Code  961732 non-null  float64\n",
      " 4   Quantity      961732 non-null  object \n",
      " 5   Price         931766 non-null  float64\n",
      "dtypes: float64(2), object(4)\n",
      "memory usage: 44.0+ MB\n"
     ]
    }
   ],
   "source": [
    "df_observation.info()"
   ]
  },
  {
   "cell_type": "code",
   "execution_count": 83,
   "id": "ce5cdf13",
   "metadata": {
    "scrolled": true
   },
   "outputs": [
    {
     "data": {
      "text/plain": [
       "Country            65\n",
       "City               65\n",
       "Obs Date           65\n",
       "Product Code       65\n",
       "Quantity           65\n",
       "Price           30031\n",
       "dtype: int64"
      ]
     },
     "execution_count": 83,
     "metadata": {},
     "output_type": "execute_result"
    }
   ],
   "source": [
    "df_observation.isnull().sum()"
   ]
  },
  {
   "cell_type": "code",
   "execution_count": 84,
   "id": "89472018",
   "metadata": {},
   "outputs": [],
   "source": [
    "df_observation.dropna(axis = 0,subset= ['Country', 'City', 'Obs Date', 'Product Code', 'Quantity'],inplace = True)"
   ]
  },
  {
   "cell_type": "code",
   "execution_count": 85,
   "id": "5a2aace7",
   "metadata": {},
   "outputs": [
    {
     "data": {
      "text/plain": [
       "Country             0\n",
       "City                0\n",
       "Obs Date            0\n",
       "Product Code        0\n",
       "Quantity            0\n",
       "Price           29966\n",
       "dtype: int64"
      ]
     },
     "execution_count": 85,
     "metadata": {},
     "output_type": "execute_result"
    }
   ],
   "source": [
    "df_observation.isnull().sum()"
   ]
  },
  {
   "cell_type": "code",
   "execution_count": 86,
   "id": "4f416db5",
   "metadata": {},
   "outputs": [
    {
     "name": "stdout",
     "output_type": "stream",
     "text": [
      "<class 'pandas.core.frame.DataFrame'>\n",
      "Int64Index: 961732 entries, 0 to 961796\n",
      "Data columns (total 6 columns):\n",
      " #   Column        Non-Null Count   Dtype  \n",
      "---  ------        --------------   -----  \n",
      " 0   Country       961732 non-null  object \n",
      " 1   City          961732 non-null  object \n",
      " 2   Obs Date      961732 non-null  object \n",
      " 3   Product Code  961732 non-null  float64\n",
      " 4   Quantity      961732 non-null  object \n",
      " 5   Price         931766 non-null  float64\n",
      "dtypes: float64(2), object(4)\n",
      "memory usage: 51.4+ MB\n"
     ]
    }
   ],
   "source": [
    "df_observation.info()"
   ]
  },
  {
   "cell_type": "code",
   "execution_count": 87,
   "id": "99239c05",
   "metadata": {},
   "outputs": [
    {
     "name": "stdout",
     "output_type": "stream",
     "text": [
      "<class 'pandas.core.frame.DataFrame'>\n",
      "RangeIndex: 30 entries, 0 to 29\n",
      "Data columns (total 2 columns):\n",
      " #   Column        Non-Null Count  Dtype \n",
      "---  ------        --------------  ----- \n",
      " 0   Product Code  30 non-null     int64 \n",
      " 1   Product Name  30 non-null     object\n",
      "dtypes: int64(1), object(1)\n",
      "memory usage: 608.0+ bytes\n"
     ]
    }
   ],
   "source": [
    "df_products.info()"
   ]
  },
  {
   "cell_type": "code",
   "execution_count": 88,
   "id": "4bffb27d",
   "metadata": {},
   "outputs": [
    {
     "data": {
      "text/plain": [
       "Product Code    0\n",
       "Product Name    0\n",
       "dtype: int64"
      ]
     },
     "execution_count": 88,
     "metadata": {},
     "output_type": "execute_result"
    }
   ],
   "source": [
    "df_products.isnull().sum()"
   ]
  },
  {
   "cell_type": "code",
   "execution_count": 89,
   "id": "fde266e7",
   "metadata": {},
   "outputs": [
    {
     "data": {
      "image/png": "[encoded data removed]",
      "text/plain": [
       "<Figure size 1440x576 with 1 Axes>"
      ]
     },
     "metadata": {
      "needs_background": "light"
     },
     "output_type": "display_data"
    },
    {
     "name": "stdout",
     "output_type": "stream",
     "text": [
      "Mean - 10.563621484227882\n",
      "Median - 8.91\n"
     ]
    }
   ],
   "source": [
    "plt.figure(figsize = (20,8))\n",
    "plt.hist(df_observation.Price,bins = 27)\n",
    "plt.show()\n",
    "print(\"Mean - \" + str(df_observation.Price.mean()))\n",
    "print(\"Median - \" + str(df_observation.Price.median()))"
   ]
  },
  {
   "cell_type": "code",
   "execution_count": 90,
   "id": "7e091202",
   "metadata": {},
   "outputs": [],
   "source": [
    "df_observation.Price.fillna(df_observation.Price.median(), inplace = True)"
   ]
  },
  {
   "cell_type": "code",
   "execution_count": 91,
   "id": "5fb51cb6",
   "metadata": {},
   "outputs": [
    {
     "data": {
      "text/plain": [
       "Country         0\n",
       "City            0\n",
       "Obs Date        0\n",
       "Product Code    0\n",
       "Quantity        0\n",
       "Price           0\n",
       "dtype: int64"
      ]
     },
     "execution_count": 91,
     "metadata": {},
     "output_type": "execute_result"
    }
   ],
   "source": [
    "df_observation.isna().sum()"
   ]
  },
  {
   "cell_type": "code",
   "execution_count": 92,
   "id": "9afd4bdb",
   "metadata": {},
   "outputs": [
    {
     "data": {
      "text/plain": [
       "['Kenya',\n",
       " 'Pakistan',\n",
       " 'India',\n",
       " 'Bangladesh',\n",
       " 'Indonesia',\n",
       " 'Nigeria',\n",
       " 'Philippines',\n",
       " 'Brazil',\n",
       " 'Brazel',\n",
       " 'Indonseia',\n",
       " 'Phillippines']"
      ]
     },
     "execution_count": 92,
     "metadata": {},
     "output_type": "execute_result"
    }
   ],
   "source": [
    "list(df_observation.Country.unique())"
   ]
  },
  {
   "cell_type": "code",
   "execution_count": 93,
   "id": "e69eb732",
   "metadata": {},
   "outputs": [],
   "source": [
    "df_observation.Country = df_observation.Country.map({'Kenya':'Kenya',\n",
    "                                                     'Pakistan': 'Pakistan',\n",
    "                                                     'India': 'India',\n",
    "                                                     'Bangladesh' : 'Bangladesh',\n",
    "                                                     'Indonesia': 'Indonesia', 'Indonseia': 'Indonesia',\n",
    "                                                     'Nigeria': 'Nigeria',\n",
    "                                                     'Philippines' : 'Philippines',\n",
    "                                                     'Brazil': 'Brazil','Brazel': 'Brazil',\n",
    "                                                     'Phillippines' : 'Philippines'})"
   ]
  },
  {
   "cell_type": "code",
   "execution_count": 94,
   "id": "2be1dbb5",
   "metadata": {},
   "outputs": [
    {
     "data": {
      "text/plain": [
       "['Kenya',\n",
       " 'Pakistan',\n",
       " 'India',\n",
       " 'Bangladesh',\n",
       " 'Indonesia',\n",
       " 'Nigeria',\n",
       " 'Philippines',\n",
       " 'Brazil']"
      ]
     },
     "execution_count": 94,
     "metadata": {},
     "output_type": "execute_result"
    }
   ],
   "source": [
    "list(df_observation.Country.unique())"
   ]
  },
  {
   "cell_type": "code",
   "execution_count": 95,
   "id": "9b39daa2",
   "metadata": {},
   "outputs": [
    {
     "data": {
      "text/plain": [
       "14397"
      ]
     },
     "execution_count": 95,
     "metadata": {},
     "output_type": "execute_result"
    }
   ],
   "source": [
    "df_observation.duplicated().sum()"
   ]
  },
  {
   "cell_type": "code",
   "execution_count": 96,
   "id": "222f0103",
   "metadata": {},
   "outputs": [],
   "source": [
    "dfObj = pd.DataFrame(df_observation)"
   ]
  },
  {
   "cell_type": "code",
   "execution_count": 98,
   "id": "b2242612",
   "metadata": {},
   "outputs": [
    {
     "name": "stdout",
     "output_type": "stream",
     "text": [
      "Duplicate Rows except first occurence based on all columns are : \n",
      "           Country        City             Obs Date  Product Code Quantity  \\\n",
      "121       Pakistan    Sargodha  2009-01-20 00:00:00          44.0     1 kg   \n",
      "127       Pakistan  Gujranwala  2009-01-20 00:00:00          44.0     1 kg   \n",
      "130       Pakistan    Sargodha  2009-01-20 00:00:00          52.0     1 kg   \n",
      "131       Pakistan  Gujranwala  2009-01-20 00:00:00          52.0     1 kg   \n",
      "141       Pakistan     Karachi                39834          44.0     1 kg   \n",
      "...            ...         ...                  ...           ...      ...   \n",
      "961079     Nigeria       Abuja  2009-03-29 00:00:00          22.0     1 kg   \n",
      "961146       Kenya     Nairobi  2009-04-22 00:00:00          23.0     1 kg   \n",
      "961159       Kenya     Nairobi  2009-04-24 00:00:00          24.0     1 kg   \n",
      "961424  Bangladesh       Dhaka  2009-04-06 00:00:00          24.0     1 kg   \n",
      "961437  Bangladesh       Dhaka  2009-03-28 00:00:00          24.0     1 kg   \n",
      "\n",
      "        Price  \n",
      "121      8.91  \n",
      "127      8.91  \n",
      "130      8.91  \n",
      "131      8.91  \n",
      "141      8.91  \n",
      "...       ...  \n",
      "961079  19.25  \n",
      "961146   0.33  \n",
      "961159   7.64  \n",
      "961424  19.17  \n",
      "961437   3.14  \n",
      "\n",
      "[14397 rows x 6 columns]\n"
     ]
    }
   ],
   "source": [
    "#select duplicate rows except first occurrence based on all columns\n",
    "duplicateRowsDF = dfObj[dfObj.duplicated()]\n",
    "\n",
    "print(\"Duplicate Rows except first occurence based on all columns are : \")\n",
    "print(duplicateRowsDF)"
   ]
  },
  {
   "cell_type": "code",
   "execution_count": 99,
   "id": "85cc6f66",
   "metadata": {},
   "outputs": [],
   "source": [
    "df_observation.drop_duplicates(subset = df_observation.columns, inplace = True)"
   ]
  },
  {
   "cell_type": "code",
   "execution_count": 100,
   "id": "0084017d",
   "metadata": {},
   "outputs": [
    {
     "data": {
      "text/plain": [
       "0"
      ]
     },
     "execution_count": 100,
     "metadata": {},
     "output_type": "execute_result"
    }
   ],
   "source": [
    "df_observation.duplicated().sum()"
   ]
  },
  {
   "cell_type": "markdown",
   "id": "6dd55e31",
   "metadata": {},
   "source": [
    "# Merging Both Data Sets"
   ]
  },
  {
   "cell_type": "code",
   "execution_count": 105,
   "id": "3b25a42f",
   "metadata": {},
   "outputs": [],
   "source": [
    "df_full = pd.merge(df_observation, df_products, how = 'outer')"
   ]
  },
  {
   "cell_type": "code",
   "execution_count": 106,
   "id": "7b9937dc",
   "metadata": {},
   "outputs": [
    {
     "data": {
      "text/html": [
       "<div>\n",
       "<style scoped>\n",
       "    .dataframe tbody tr th:only-of-type {\n",
       "        vertical-align: middle;\n",
       "    }\n",
       "\n",
       "    .dataframe tbody tr th {\n",
       "        vertical-align: top;\n",
       "    }\n",
       "\n",
       "    .dataframe thead th {\n",
       "        text-align: right;\n",
       "    }\n",
       "</style>\n",
       "<table border=\"1\" class=\"dataframe\">\n",
       "  <thead>\n",
       "    <tr style=\"text-align: right;\">\n",
       "      <th></th>\n",
       "      <th>Country</th>\n",
       "      <th>City</th>\n",
       "      <th>Obs Date</th>\n",
       "      <th>Product Code</th>\n",
       "      <th>Quantity</th>\n",
       "      <th>Price</th>\n",
       "      <th>Product Name</th>\n",
       "    </tr>\n",
       "  </thead>\n",
       "  <tbody>\n",
       "    <tr>\n",
       "      <th>0</th>\n",
       "      <td>Kenya</td>\n",
       "      <td>Eldoret</td>\n",
       "      <td>2009-01-01 00:00:00</td>\n",
       "      <td>52.0</td>\n",
       "      <td>1 kg</td>\n",
       "      <td>11.92</td>\n",
       "      <td>Cooking salt</td>\n",
       "    </tr>\n",
       "    <tr>\n",
       "      <th>1</th>\n",
       "      <td>Kenya</td>\n",
       "      <td>Eldoret</td>\n",
       "      <td>2009-01-01 00:00:00</td>\n",
       "      <td>52.0</td>\n",
       "      <td>1 kg</td>\n",
       "      <td>5.91</td>\n",
       "      <td>Cooking salt</td>\n",
       "    </tr>\n",
       "    <tr>\n",
       "      <th>2</th>\n",
       "      <td>Kenya</td>\n",
       "      <td>Eldoret</td>\n",
       "      <td>2009-01-02 00:00:00</td>\n",
       "      <td>52.0</td>\n",
       "      <td>1 kg</td>\n",
       "      <td>16.50</td>\n",
       "      <td>Cooking salt</td>\n",
       "    </tr>\n",
       "    <tr>\n",
       "      <th>3</th>\n",
       "      <td>Kenya</td>\n",
       "      <td>Eldoret</td>\n",
       "      <td>2009-01-02 00:00:00</td>\n",
       "      <td>52.0</td>\n",
       "      <td>1 kg</td>\n",
       "      <td>9.77</td>\n",
       "      <td>Cooking salt</td>\n",
       "    </tr>\n",
       "    <tr>\n",
       "      <th>4</th>\n",
       "      <td>Pakistan</td>\n",
       "      <td>Rawalpindi</td>\n",
       "      <td>2009-01-03 00:00:00</td>\n",
       "      <td>52.0</td>\n",
       "      <td>1 kg</td>\n",
       "      <td>17.80</td>\n",
       "      <td>Cooking salt</td>\n",
       "    </tr>\n",
       "  </tbody>\n",
       "</table>\n",
       "</div>"
      ],
      "text/plain": [
       "    Country        City             Obs Date  Product Code Quantity  Price  \\\n",
       "0     Kenya     Eldoret  2009-01-01 00:00:00          52.0     1 kg  11.92   \n",
       "1     Kenya     Eldoret  2009-01-01 00:00:00          52.0     1 kg   5.91   \n",
       "2     Kenya     Eldoret  2009-01-02 00:00:00          52.0     1 kg  16.50   \n",
       "3     Kenya     Eldoret  2009-01-02 00:00:00          52.0     1 kg   9.77   \n",
       "4  Pakistan  Rawalpindi  2009-01-03 00:00:00          52.0     1 kg  17.80   \n",
       "\n",
       "   Product Name  \n",
       "0  Cooking salt  \n",
       "1  Cooking salt  \n",
       "2  Cooking salt  \n",
       "3  Cooking salt  \n",
       "4  Cooking salt  "
      ]
     },
     "execution_count": 106,
     "metadata": {},
     "output_type": "execute_result"
    }
   ],
   "source": [
    "df_full.head()"
   ]
  },
  {
   "cell_type": "code",
   "execution_count": 108,
   "id": "a417b498",
   "metadata": {},
   "outputs": [],
   "source": [
    "df_full.sort_values(by = 'Country', inplace = True)"
   ]
  },
  {
   "cell_type": "code",
   "execution_count": 109,
   "id": "01bdb479",
   "metadata": {},
   "outputs": [
    {
     "data": {
      "text/html": [
       "<div>\n",
       "<style scoped>\n",
       "    .dataframe tbody tr th:only-of-type {\n",
       "        vertical-align: middle;\n",
       "    }\n",
       "\n",
       "    .dataframe tbody tr th {\n",
       "        vertical-align: top;\n",
       "    }\n",
       "\n",
       "    .dataframe thead th {\n",
       "        text-align: right;\n",
       "    }\n",
       "</style>\n",
       "<table border=\"1\" class=\"dataframe\">\n",
       "  <thead>\n",
       "    <tr style=\"text-align: right;\">\n",
       "      <th></th>\n",
       "      <th>Country</th>\n",
       "      <th>City</th>\n",
       "      <th>Obs Date</th>\n",
       "      <th>Product Code</th>\n",
       "      <th>Quantity</th>\n",
       "      <th>Price</th>\n",
       "      <th>Product Name</th>\n",
       "    </tr>\n",
       "  </thead>\n",
       "  <tbody>\n",
       "    <tr>\n",
       "      <th>237535</th>\n",
       "      <td>Bangladesh</td>\n",
       "      <td>Dhaka</td>\n",
       "      <td>2012-04-16 00:00:00</td>\n",
       "      <td>14.0</td>\n",
       "      <td>1 kg</td>\n",
       "      <td>0.961930</td>\n",
       "      <td>Flour, wheat</td>\n",
       "    </tr>\n",
       "    <tr>\n",
       "      <th>357895</th>\n",
       "      <td>Bangladesh</td>\n",
       "      <td>Pabna</td>\n",
       "      <td>2012-03-29 00:00:00</td>\n",
       "      <td>41.0</td>\n",
       "      <td>1 kg</td>\n",
       "      <td>1.925224</td>\n",
       "      <td>Banana</td>\n",
       "    </tr>\n",
       "    <tr>\n",
       "      <th>357894</th>\n",
       "      <td>Bangladesh</td>\n",
       "      <td>Khulna</td>\n",
       "      <td>2012-03-29 00:00:00</td>\n",
       "      <td>41.0</td>\n",
       "      <td>1 kg</td>\n",
       "      <td>1.925224</td>\n",
       "      <td>Banana</td>\n",
       "    </tr>\n",
       "    <tr>\n",
       "      <th>357900</th>\n",
       "      <td>Bangladesh</td>\n",
       "      <td>Dhaka</td>\n",
       "      <td>2012-03-29 00:00:00</td>\n",
       "      <td>41.0</td>\n",
       "      <td>1 kg</td>\n",
       "      <td>1.865060</td>\n",
       "      <td>Banana</td>\n",
       "    </tr>\n",
       "    <tr>\n",
       "      <th>357975</th>\n",
       "      <td>Bangladesh</td>\n",
       "      <td>Chittagong</td>\n",
       "      <td>2012-03-29 00:00:00</td>\n",
       "      <td>41.0</td>\n",
       "      <td>1 kg</td>\n",
       "      <td>0.782122</td>\n",
       "      <td>Banana</td>\n",
       "    </tr>\n",
       "  </tbody>\n",
       "</table>\n",
       "</div>"
      ],
      "text/plain": [
       "           Country        City             Obs Date  Product Code Quantity  \\\n",
       "237535  Bangladesh       Dhaka  2012-04-16 00:00:00          14.0     1 kg   \n",
       "357895  Bangladesh       Pabna  2012-03-29 00:00:00          41.0     1 kg   \n",
       "357894  Bangladesh      Khulna  2012-03-29 00:00:00          41.0     1 kg   \n",
       "357900  Bangladesh       Dhaka  2012-03-29 00:00:00          41.0     1 kg   \n",
       "357975  Bangladesh  Chittagong  2012-03-29 00:00:00          41.0     1 kg   \n",
       "\n",
       "           Price  Product Name  \n",
       "237535  0.961930  Flour, wheat  \n",
       "357895  1.925224        Banana  \n",
       "357894  1.925224        Banana  \n",
       "357900  1.865060        Banana  \n",
       "357975  0.782122        Banana  "
      ]
     },
     "execution_count": 109,
     "metadata": {},
     "output_type": "execute_result"
    }
   ],
   "source": [
    "df_full.head()"
   ]
  },
  {
   "cell_type": "code",
   "execution_count": 110,
   "id": "a945a17a",
   "metadata": {},
   "outputs": [],
   "source": [
    "df_full.to_excel(data_output,columns = [\"Country\",\"City\",\"Obs Date\",\"Product Code\", \"Quantity\", \"Price\", \"Product Name\"])"
   ]
  }
 ],
 "metadata": {
  "kernelspec": {
   "display_name": "Python 3 (ipykernel)",
   "language": "python",
   "name": "python3"
  },
  "language_info": {
   "codemirror_mode": {
    "name": "ipython",
    "version": 3
   },
   "file_extension": ".py",
   "mimetype": "text/x-python",
   "name": "python",
   "nbconvert_exporter": "python",
   "pygments_lexer": "ipython3",
   "version": "3.9.12"
  }
 },
 "nbformat": 4,
 "nbformat_minor": 5
}
